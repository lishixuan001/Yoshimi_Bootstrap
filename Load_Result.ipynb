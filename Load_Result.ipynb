{
 "cells": [
  {
   "cell_type": "code",
   "execution_count": 3,
   "metadata": {
    "collapsed": true
   },
   "outputs": [],
   "source": [
    "import pandas as pd\n",
    "import numpy as np\n",
    "from os.path import join\n",
    "from pdb import set_trace as st\n",
    "from numpy import random\n",
    "from scipy import stats\n",
    "import sys\n",
    "import pickle"
   ]
  },
  {
   "cell_type": "code",
   "execution_count": 14,
   "metadata": {
    "collapsed": false
   },
   "outputs": [],
   "source": [
    "data_type = \"0506\"\n",
    "ages = [18, np.inf]\n",
    "stages = [\"normal_bp\", \"elevated\", \"stage_1\", \"stage_2\", \"stage_3\"]"
   ]
  },
  {
   "cell_type": "code",
   "execution_count": 15,
   "metadata": {
    "collapsed": true
   },
   "outputs": [],
   "source": [
    "with open(f\"./{data_type}_general.pkl\", \"rb\") as file:\n",
    "    results = pickle.load(file)"
   ]
  },
  {
   "cell_type": "code",
   "execution_count": 16,
   "metadata": {
    "collapsed": false
   },
   "outputs": [],
   "source": [
    "data = []\n",
    "columns = [\"Age Range\", \"Group1\", \"Group2\", \"P-Value\"]\n",
    "\n",
    "for age_key in results.keys():\n",
    "    age_range = results[age_key]\n",
    "    for pair_key in age_range.keys():\n",
    "        pair_value = age_range[pair_key]\n",
    "        group1 = stages[pair_key[0]]\n",
    "        group2 = stages[pair_key[1]]\n",
    "        value = \"<0.001\" if pair_value == -1 else str(pair_value)\n",
    "        data_line = [age_key, group1, group2, value]\n",
    "        data.append(data_line)\n",
    "df = pd.DataFrame(data, columns=columns)"
   ]
  },
  {
   "cell_type": "code",
   "execution_count": 17,
   "metadata": {
    "collapsed": false
   },
   "outputs": [],
   "source": [
    "df.to_csv(f\"./general_{data_type}.csv\")"
   ]
  },
  {
   "cell_type": "code",
   "execution_count": 18,
   "metadata": {
    "collapsed": false
   },
   "outputs": [
    {
     "data": {
      "text/plain": [
       "{(18, inf): {(0, 1): 0.09708199828173371,\n",
       "  (0, 2): 0.14612444252458165,\n",
       "  (0, 3): 0.07731382571823847,\n",
       "  (0, 4): -1,\n",
       "  (1, 2): 0.08930357407800092,\n",
       "  (1, 3): 0.17320626577281506,\n",
       "  (1, 4): 0.05448224414599286,\n",
       "  (2, 3): 0.08477159709497734,\n",
       "  (2, 4): 0.12651794453996587,\n",
       "  (3, 4): -1}}"
      ]
     },
     "execution_count": 18,
     "metadata": {},
     "output_type": "execute_result"
    }
   ],
   "source": [
    "results"
   ]
  },
  {
   "cell_type": "code",
   "execution_count": null,
   "metadata": {
    "collapsed": true
   },
   "outputs": [],
   "source": []
  }
 ],
 "metadata": {
  "kernelspec": {
   "display_name": "Python 3",
   "language": "python",
   "name": "python3"
  },
  "language_info": {
   "codemirror_mode": {
    "name": "ipython",
    "version": 3
   },
   "file_extension": ".py",
   "mimetype": "text/x-python",
   "name": "python",
   "nbconvert_exporter": "python",
   "pygments_lexer": "ipython3",
   "version": "3.6.8"
  }
 },
 "nbformat": 4,
 "nbformat_minor": 0
}

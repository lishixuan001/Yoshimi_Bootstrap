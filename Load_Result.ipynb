{
 "cells": [
  {
   "cell_type": "code",
   "execution_count": 1,
   "metadata": {
    "collapsed": true
   },
   "outputs": [],
   "source": [
    "import pandas as pd\n",
    "import numpy as np\n",
    "from os.path import join\n",
    "from pdb import set_trace as st\n",
    "from numpy import random\n",
    "from scipy import stats\n",
    "import sys\n",
    "import pickle"
   ]
  },
  {
   "cell_type": "code",
   "execution_count": 6,
   "metadata": {
    "collapsed": true
   },
   "outputs": [],
   "source": [
    "data_type = \"0304\"\n",
    "ages = [18, np.inf]\n",
    "stages = [\"normal_bp\", \"elevated\", \"stage_1\", \"stage_2\", \"stage_3\"]"
   ]
  },
  {
   "cell_type": "code",
   "execution_count": 7,
   "metadata": {
    "collapsed": false
   },
   "outputs": [],
   "source": [
    "with open(f\"./{data_type}_all_results.pkl\", \"rb\") as file:\n",
    "    results = pickle.load(file)"
   ]
  },
  {
   "cell_type": "code",
   "execution_count": 8,
   "metadata": {
    "collapsed": false,
    "jupyter": {
     "outputs_hidden": false
    }
   },
   "outputs": [],
   "source": [
    "data = []\n",
    "columns = [\"Age Range\", \"Group1\", \"Group2\", \"P-Value\"]\n",
    "\n",
    "for age_key in results.keys():\n",
    "    age_range = results[age_key]\n",
    "    for pair_key in age_range.keys():\n",
    "        pair_value = age_range[pair_key]\n",
    "        group1 = stages[pair_key[0]]\n",
    "        group2 = stages[pair_key[1]]\n",
    "        value = str(pair_value)\n",
    "        data_line = [age_key, group1, group2, value]\n",
    "        data.append(data_line)\n",
    "df = pd.DataFrame(data, columns=columns)"
   ]
  },
  {
   "cell_type": "code",
   "execution_count": 9,
   "metadata": {
    "collapsed": false
   },
   "outputs": [],
   "source": [
    "# data = []\n",
    "# columns = [\"Age Range\", \"Group1\", \"Group2\", \"P-Value\"]\n",
    "\n",
    "# print(results)\n",
    "# df = pd.DataFrame(data, columns=columns)"
   ]
  },
  {
   "cell_type": "code",
   "execution_count": 10,
   "metadata": {
    "collapsed": false,
    "jupyter": {
     "outputs_hidden": false
    }
   },
   "outputs": [],
   "source": [
    "# df.to_csv(f\"./result_{data_type}.csv\")"
   ]
  },
  {
   "cell_type": "code",
   "execution_count": 11,
   "metadata": {
    "collapsed": false,
    "jupyter": {
     "outputs_hidden": true
    }
   },
   "outputs": [
    {
     "name": "stdout",
     "output_type": "stream",
     "text": [
      "   Age Range     Group1    Group2              P-Value\n",
      "0  (18, inf)  normal_bp  elevated  0.10150738942507571\n",
      "1  (18, inf)  normal_bp   stage_1   0.1220600860990374\n",
      "2  (18, inf)  normal_bp   stage_2  0.10592263921798735\n",
      "3  (18, inf)  normal_bp   stage_3  0.10099016501401088\n",
      "4  (18, inf)   elevated   stage_1  0.13206484405008692\n",
      "5  (18, inf)   elevated   stage_2  0.13355295571741796\n",
      "6  (18, inf)   elevated   stage_3  0.13049574600586503\n",
      "7  (18, inf)    stage_1   stage_2  0.12543819948257928\n",
      "8  (18, inf)    stage_1   stage_3  0.09620167835043425\n",
      "9  (18, inf)    stage_2   stage_3  0.07559867965031979\n"
     ]
    }
   ],
   "source": [
    "print(df)"
   ]
  },
  {
   "cell_type": "code",
   "execution_count": null,
   "metadata": {
    "collapsed": true
   },
   "outputs": [],
   "source": []
  }
 ],
 "metadata": {
  "kernelspec": {
   "display_name": "Python 3",
   "language": "python",
   "name": "python3"
  },
  "language_info": {
   "codemirror_mode": {
    "name": "ipython",
    "version": 3
   },
   "file_extension": ".py",
   "mimetype": "text/x-python",
   "name": "python",
   "nbconvert_exporter": "python",
   "pygments_lexer": "ipython3",
   "version": "3.7.4"
  }
 },
 "nbformat": 4,
 "nbformat_minor": 4
}

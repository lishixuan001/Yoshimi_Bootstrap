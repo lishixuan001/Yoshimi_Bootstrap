{
 "cells": [
  {
   "cell_type": "code",
   "execution_count": 112,
   "metadata": {},
   "outputs": [],
   "source": [
    "import numpy as np\n",
    "import pandas as pd\n",
    "from os.path import join\n",
    "from pdb import set_trace as st\n",
    "from numpy import random\n",
    "from scipy import stats\n",
    "import sys\n",
    "import pickle"
   ]
  },
  {
   "cell_type": "code",
   "execution_count": 105,
   "metadata": {},
   "outputs": [],
   "source": [
    "def report_progress(progress, total, lbar_prefix = '', rbar_prefix=''):\n",
    "    percent = round(progress / float(total) * 100, 2)\n",
    "    buf = \"{0}|{1}| {2}{3}/{4} {5}%\".format(lbar_prefix, ('#' * round(percent)).ljust(100, '-'),\n",
    "        rbar_prefix, progress, total, percent)\n",
    "    sys.stdout.write(buf)\n",
    "    sys.stdout.write('\\r')\n",
    "    sys.stdout.flush()"
   ]
  },
  {
   "cell_type": "code",
   "execution_count": 106,
   "metadata": {},
   "outputs": [],
   "source": [
    "data_type = \"0304\"\n",
    "file_path = f\"./lsx_{data_type}.csv\"\n",
    "ages = [0, 19, 31, 51, np.inf]\n",
    "stages = [\"normal_bp\", \"elevated\", \"stage_1\", \"stage_2\", \"stage_3\"]\n",
    "iterations = 1000"
   ]
  },
  {
   "cell_type": "code",
   "execution_count": 110,
   "metadata": {},
   "outputs": [],
   "source": [
    "def operate():\n",
    "    # Load CSV\n",
    "    df = pd.read_csv(file_path)\n",
    "    \n",
    "    # Start Empty Table for Track Result\n",
    "    results = dict()\n",
    "    \n",
    "    for i in range(len(ages)-1):\n",
    "        start_age, end_age = ages[i], ages[i+1] # [0, 19]\n",
    "        \n",
    "        print(\"\\n=============================================\")\n",
    "        print(f\"Age {start_age} ~ {end_age}\")\n",
    "        print(\"=============================================\")\n",
    "        \n",
    "        df_age = df[df['age'] >= start_age]\n",
    "        df_age = df_age[df_age['age'] < end_age]\n",
    "        \n",
    "        result = dict()\n",
    "        \n",
    "        for j in range(len(stages)-1):\n",
    "            for k in range(j+1, len(stages)):\n",
    "                \n",
    "                print(\"\\n---------------------------------------------\")\n",
    "                print(f\"Sets {j} & {k}\")\n",
    "                print(\"---------------------------------------------\")\n",
    "        \n",
    "                # Get name of the paired sets\n",
    "                cls_1 = stages[j]\n",
    "                cls_2 = stages[k]\n",
    "                # Get set data\n",
    "                set1 = df_age[df_age[cls_1] == True]\n",
    "                set2 = df_age[df_age[cls_2] == True]\n",
    "                # Get sample size\n",
    "                N = min(set1.shape[0], set2.shape[0])\n",
    "                # Iterations\n",
    "                distances = list()\n",
    "                for i in range(iterations):\n",
    "                    # Two random indices, one for each set, sample size N\n",
    "                    random_index_1 = random.choice(set1.shape[0], N)\n",
    "                    random_index_2 = random.choice(set2.shape[0], N)\n",
    "                    # Get the two samples, each [N, 7200]\n",
    "                    sample_1 = set1.iloc[random_index_1, :]\n",
    "                    sample_2 = set2.iloc[random_index_2, :]\n",
    "                    # Get column-wise median\n",
    "                    median_1 = np.median(sample_1, axis=0)\n",
    "                    median_2 = np.median(sample_2, axis=0)\n",
    "                    distance = max(median_1 - median_2)\n",
    "                    distances.append(distance)\n",
    "                    report_progress(i, iterations)\n",
    "                distances = np.array(distances)\n",
    "                mean, sigma = np.mean(distances), np.std(distances)\n",
    "                conf_int = stats.norm.interval(0.95, loc=mean, scale=sigma) # / np.sqrt(len(distances)))\n",
    "                # Check if 0 is in between\n",
    "                if 0 >= conf_int[0] and 0 <= conf_int[1]:\n",
    "                    result[(j, k)] = -1 # p < 0.05 two sided\n",
    "                else:\n",
    "                    t_value = (mean - 0) / (std / np.sqrt(len(distances))) # t-statistic for mean\n",
    "                    pval = stats.t.sf(np.abs(t_value), len(distances) - 1) * 2  # two-sided pvalue = Prob(abs(t)>tt)\n",
    "                    result[(j, k)] = pval\n",
    "                    \n",
    "        results[(start_age, end_age)] = result\n",
    "        \n",
    "    with open(f\"./0304_results.pkl\", \"wb\") as file:\n",
    "        pickle.dump(results, file)\n",
    "    return results"
   ]
  },
  {
   "cell_type": "code",
   "execution_count": null,
   "metadata": {
    "scrolled": true
   },
   "outputs": [],
   "source": []
  },
  {
   "cell_type": "code",
   "execution_count": 111,
   "metadata": {},
   "outputs": [
    {
     "name": "stdout",
     "output_type": "stream",
     "text": [
      "\n",
      "=============================================\n",
      "Age 0 ~ 19\n",
      "=============================================\n",
      "\n",
      "---------------------------------------------\n",
      "Sets 0 & 1\n",
      "---------------------------------------------\n",
      "|####################################################################################################| 999/1000 99.9%\n",
      "---------------------------------------------\n",
      "Sets 0 & 2\n",
      "---------------------------------------------\n",
      "|####################################################################################################| 999/1000 99.9%\n",
      "---------------------------------------------\n",
      "Sets 0 & 3\n",
      "---------------------------------------------\n",
      "|#############################################################################-----------------------| 774/1000 77.4%\r"
     ]
    },
    {
     "ename": "KeyboardInterrupt",
     "evalue": "",
     "output_type": "error",
     "traceback": [
      "\u001b[0;31m---------------------------------------------------------------------------\u001b[0m",
      "\u001b[0;31mKeyboardInterrupt\u001b[0m                         Traceback (most recent call last)",
      "\u001b[0;32m<ipython-input-111-81eaaadb8c27>\u001b[0m in \u001b[0;36m<module>\u001b[0;34m\u001b[0m\n\u001b[0;32m----> 1\u001b[0;31m \u001b[0mdistances\u001b[0m \u001b[0;34m=\u001b[0m \u001b[0moperate\u001b[0m\u001b[0;34m(\u001b[0m\u001b[0;34m)\u001b[0m\u001b[0;34m\u001b[0m\u001b[0;34m\u001b[0m\u001b[0m\n\u001b[0m",
      "\u001b[0;32m<ipython-input-110-f744988ee49f>\u001b[0m in \u001b[0;36moperate\u001b[0;34m()\u001b[0m\n\u001b[1;32m     44\u001b[0m                     \u001b[0;31m# Get column-wise median\u001b[0m\u001b[0;34m\u001b[0m\u001b[0;34m\u001b[0m\u001b[0;34m\u001b[0m\u001b[0m\n\u001b[1;32m     45\u001b[0m                     \u001b[0mmedian_1\u001b[0m \u001b[0;34m=\u001b[0m \u001b[0mnp\u001b[0m\u001b[0;34m.\u001b[0m\u001b[0mmedian\u001b[0m\u001b[0;34m(\u001b[0m\u001b[0msample_1\u001b[0m\u001b[0;34m,\u001b[0m \u001b[0maxis\u001b[0m\u001b[0;34m=\u001b[0m\u001b[0;36m0\u001b[0m\u001b[0;34m)\u001b[0m\u001b[0;34m\u001b[0m\u001b[0;34m\u001b[0m\u001b[0m\n\u001b[0;32m---> 46\u001b[0;31m                     \u001b[0mmedian_2\u001b[0m \u001b[0;34m=\u001b[0m \u001b[0mnp\u001b[0m\u001b[0;34m.\u001b[0m\u001b[0mmedian\u001b[0m\u001b[0;34m(\u001b[0m\u001b[0msample_2\u001b[0m\u001b[0;34m,\u001b[0m \u001b[0maxis\u001b[0m\u001b[0;34m=\u001b[0m\u001b[0;36m0\u001b[0m\u001b[0;34m)\u001b[0m\u001b[0;34m\u001b[0m\u001b[0;34m\u001b[0m\u001b[0m\n\u001b[0m\u001b[1;32m     47\u001b[0m                     \u001b[0mdistance\u001b[0m \u001b[0;34m=\u001b[0m \u001b[0mmax\u001b[0m\u001b[0;34m(\u001b[0m\u001b[0mmedian_1\u001b[0m \u001b[0;34m-\u001b[0m \u001b[0mmedian_2\u001b[0m\u001b[0;34m)\u001b[0m\u001b[0;34m\u001b[0m\u001b[0;34m\u001b[0m\u001b[0m\n\u001b[1;32m     48\u001b[0m                     \u001b[0mdistances\u001b[0m\u001b[0;34m.\u001b[0m\u001b[0mappend\u001b[0m\u001b[0;34m(\u001b[0m\u001b[0mdistance\u001b[0m\u001b[0;34m)\u001b[0m\u001b[0;34m\u001b[0m\u001b[0;34m\u001b[0m\u001b[0m\n",
      "\u001b[0;32m~/installations/miniconda3/lib/python3.7/site-packages/numpy/lib/function_base.py\u001b[0m in \u001b[0;36mmedian\u001b[0;34m(a, axis, out, overwrite_input, keepdims)\u001b[0m\n\u001b[1;32m   3495\u001b[0m     \"\"\"\n\u001b[1;32m   3496\u001b[0m     r, k = _ureduce(a, func=_median, axis=axis, out=out,\n\u001b[0;32m-> 3497\u001b[0;31m                     overwrite_input=overwrite_input)\n\u001b[0m\u001b[1;32m   3498\u001b[0m     \u001b[0;32mif\u001b[0m \u001b[0mkeepdims\u001b[0m\u001b[0;34m:\u001b[0m\u001b[0;34m\u001b[0m\u001b[0;34m\u001b[0m\u001b[0m\n\u001b[1;32m   3499\u001b[0m         \u001b[0;32mreturn\u001b[0m \u001b[0mr\u001b[0m\u001b[0;34m.\u001b[0m\u001b[0mreshape\u001b[0m\u001b[0;34m(\u001b[0m\u001b[0mk\u001b[0m\u001b[0;34m)\u001b[0m\u001b[0;34m\u001b[0m\u001b[0;34m\u001b[0m\u001b[0m\n",
      "\u001b[0;31mKeyboardInterrupt\u001b[0m: "
     ]
    }
   ],
   "source": [
    "distances = operate()"
   ]
  },
  {
   "cell_type": "code",
   "execution_count": null,
   "metadata": {},
   "outputs": [],
   "source": []
  },
  {
   "cell_type": "code",
   "execution_count": 16,
   "metadata": {},
   "outputs": [],
   "source": []
  },
  {
   "cell_type": "code",
   "execution_count": 17,
   "metadata": {},
   "outputs": [],
   "source": []
  },
  {
   "cell_type": "code",
   "execution_count": 65,
   "metadata": {},
   "outputs": [],
   "source": []
  },
  {
   "cell_type": "code",
   "execution_count": null,
   "metadata": {},
   "outputs": [],
   "source": []
  },
  {
   "cell_type": "code",
   "execution_count": 26,
   "metadata": {},
   "outputs": [],
   "source": []
  },
  {
   "cell_type": "code",
   "execution_count": null,
   "metadata": {},
   "outputs": [],
   "source": []
  },
  {
   "cell_type": "code",
   "execution_count": null,
   "metadata": {},
   "outputs": [],
   "source": []
  },
  {
   "cell_type": "code",
   "execution_count": null,
   "metadata": {},
   "outputs": [],
   "source": []
  },
  {
   "cell_type": "code",
   "execution_count": null,
   "metadata": {},
   "outputs": [],
   "source": []
  }
 ],
 "metadata": {
  "kernelspec": {
   "display_name": "Python 3",
   "language": "python",
   "name": "python3"
  }
 },
 "nbformat": 4,
 "nbformat_minor": 1
}

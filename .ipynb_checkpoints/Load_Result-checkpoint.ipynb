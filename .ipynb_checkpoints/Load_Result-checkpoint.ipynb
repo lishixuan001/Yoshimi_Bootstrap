{
 "cells": [
  {
   "cell_type": "code",
   "execution_count": 1,
   "metadata": {
    "collapsed": true
   },
   "outputs": [],
   "source": [
    "import pandas as pd\n",
    "import numpy as np\n",
    "from os.path import join\n",
    "from pdb import set_trace as st\n",
    "from numpy import random\n",
    "from scipy import stats\n",
    "import sys\n",
    "import pickle"
   ]
  },
  {
   "cell_type": "code",
   "execution_count": 3,
   "metadata": {
    "collapsed": true
   },
   "outputs": [],
   "source": [
    "data_type = \"0304\"\n",
    "ages = [18, 31, 51, np.inf]\n",
    "stages = [\"normal_bp\", \"elevated\", \"stage_1\", \"stage_2\", \"stage_3\"]"
   ]
  },
  {
   "cell_type": "code",
   "execution_count": 4,
   "metadata": {
    "collapsed": true
   },
   "outputs": [],
   "source": [
    "with open(f\"./{data_type}_results.pkl\", \"rb\") as file:\n",
    "    results = pickle.load(file)"
   ]
  },
  {
   "cell_type": "code",
   "execution_count": 5,
   "metadata": {
    "collapsed": false
   },
   "outputs": [],
   "source": [
    "data = []\n",
    "columns = [\"Age Range\", \"Group1\", \"Group2\", \"P-Value\"]\n",
    "\n",
    "for age_key in results.keys():\n",
    "    age_range = results[age_key]\n",
    "    for pair_key in age_range.keys():\n",
    "        pair_value = age_range[pair_key]\n",
    "        group1 = stages[pair_key[0]]\n",
    "        group2 = stages[pair_key[1]]\n",
    "        value = \"<0.001\" if pair_value == -1 else str(pair_value)\n",
    "        data_line = [age_key, group1, group2, value]\n",
    "        data.append(data_line)\n",
    "df = pd.DataFrame(data, columns=columns)"
   ]
  },
  {
   "cell_type": "code",
   "execution_count": 7,
   "metadata": {
    "collapsed": false
   },
   "outputs": [
    {
     "data": {
      "text/plain": [
       "0     0.10905237086647929\n",
       "1     0.08690637579978688\n",
       "2     0.06158615075853326\n",
       "3                  <0.001\n",
       "4     0.07739496157462236\n",
       "5                  <0.001\n",
       "6                  <0.001\n",
       "7     0.16374335034639226\n",
       "8                  <0.001\n",
       "9                  <0.001\n",
       "10    0.06278641339989961\n",
       "11    0.09031629480601643\n",
       "12    0.06385168183405474\n",
       "13                 <0.001\n",
       "14                 <0.001\n",
       "15                 <0.001\n",
       "16                 <0.001\n",
       "17                 <0.001\n",
       "18                 <0.001\n",
       "19    0.06714710652656458\n",
       "20                 <0.001\n",
       "21                 <0.001\n",
       "22                 <0.001\n",
       "23                 <0.001\n",
       "24    0.10845979901085934\n",
       "25    0.12253483046979087\n",
       "26                 <0.001\n",
       "27    0.10749454801656752\n",
       "28                 <0.001\n",
       "29    0.05146579525606823\n",
       "Name: P-Value, dtype: object"
      ]
     },
     "execution_count": 7,
     "metadata": {},
     "output_type": "execute_result"
    }
   ],
   "source": [
    "df[\"P-Value\"]"
   ]
  },
  {
   "cell_type": "code",
   "execution_count": null,
   "metadata": {
    "collapsed": true
   },
   "outputs": [],
   "source": []
  }
 ],
 "metadata": {
  "kernelspec": {
   "display_name": "Python 3",
   "language": "python",
   "name": "python3"
  },
  "language_info": {
   "codemirror_mode": {
    "name": "ipython",
    "version": 3
   },
   "file_extension": ".py",
   "mimetype": "text/x-python",
   "name": "python",
   "nbconvert_exporter": "python",
   "pygments_lexer": "ipython3",
   "version": "3.6.8"
  }
 },
 "nbformat": 4,
 "nbformat_minor": 0
}

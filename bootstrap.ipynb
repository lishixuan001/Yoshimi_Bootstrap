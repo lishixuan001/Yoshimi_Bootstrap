{
 "cells": [
  {
   "cell_type": "code",
   "execution_count": 1,
   "metadata": {
    "collapsed": true
   },
   "outputs": [],
   "source": [
    "import numpy as np\n",
    "import pandas as pd\n",
    "from os.path import join\n",
    "from pdb import set_trace as st\n",
    "from numpy import random\n",
    "from scipy import stats\n",
    "import sys\n",
    "import pickle"
   ]
  },
  {
   "cell_type": "code",
   "execution_count": 2,
   "metadata": {
    "collapsed": true
   },
   "outputs": [],
   "source": [
    "def report_progress(progress, total, lbar_prefix = '', rbar_prefix=''):\n",
    "    percent = round(progress / float(total) * 100, 2)\n",
    "    buf = \"{0}|{1}| {2}{3}/{4} {5}%\".format(lbar_prefix, ('#' * round(percent)).ljust(100, '-'),\n",
    "        rbar_prefix, progress, total, percent)\n",
    "    sys.stdout.write(buf)\n",
    "    sys.stdout.write('\\r')\n",
    "    sys.stdout.flush()"
   ]
  },
  {
   "cell_type": "code",
   "execution_count": 15,
   "metadata": {
    "collapsed": true
   },
   "outputs": [],
   "source": [
    "data_type = \"0304\"\n",
    "file_path = f\"./lsx_{data_type}.csv\"\n",
    "ages = [0, 19, 31, 51, np.inf]\n",
    "stages = [\"normal_bp\", \"elevated\", \"stage_1\", \"stage_2\", \"stage_3\"]\n",
    "iterations = 1000"
   ]
  },
  {
   "cell_type": "code",
   "execution_count": 16,
   "metadata": {
    "collapsed": true
   },
   "outputs": [],
   "source": [
    "def operate():\n",
    "    # Load CSV\n",
    "    df = pd.read_csv(file_path)\n",
    "    \n",
    "    # Start Empty Table for Track Result\n",
    "    results = dict()\n",
    "    \n",
    "    for i in range(len(ages)-1):\n",
    "        start_age, end_age = ages[i], ages[i+1] # [0, 19]\n",
    "        \n",
    "        print(\"\\n=============================================\")\n",
    "        print(f\"Age {start_age} ~ {end_age}\")\n",
    "        print(\"=============================================\")\n",
    "        \n",
    "        df_age = df[df['age'] >= start_age]\n",
    "        df_age = df_age[df_age['age'] < end_age]\n",
    "        \n",
    "        result = dict()\n",
    "        \n",
    "        for j in range(len(stages)-1):\n",
    "            for k in range(j+1, len(stages)):\n",
    "                \n",
    "                print(\"\\n---------------------------------------------\")\n",
    "                print(f\"Sets {stages[j]} & {stages[k]}\")\n",
    "                print(\"---------------------------------------------\")\n",
    "        \n",
    "                # Get name of the paired sets\n",
    "                cls_1 = stages[j]\n",
    "                cls_2 = stages[k]\n",
    "                \n",
    "                # Get set data\n",
    "                set1 = df_age[df_age[cls_1] == True]\n",
    "                set2 = df_age[df_age[cls_2] == True]\n",
    "                \n",
    "                # Get sample size\n",
    "                N = min(set1.shape[0], set2.shape[0])\n",
    "                \n",
    "                # Iterations\n",
    "                distances = list()\n",
    "                \n",
    "                for i in range(iterations):\n",
    "                    # Two random indices, one for each set, sample size N\n",
    "                    random_index_1 = random.choice(set1.shape[0], N)\n",
    "                    random_index_2 = random.choice(set2.shape[0], N)\n",
    "                    \n",
    "                    # Get the two samples, each [N, 7200]\n",
    "                    sample_1 = set1.iloc[random_index_1, :]\n",
    "                    sample_2 = set2.iloc[random_index_2, :]\n",
    "                    \n",
    "                    # Get column-wise median\n",
    "                    median_1 = pd.DataFrame.median(sample_1, axis=0)\n",
    "                    median_1[pd.isnull(median_1)] = 0\n",
    "                    median_2 = pd.DataFrame.median(sample_2, axis=0)\n",
    "                    median_2[pd.isnull(median_2)] = 0\n",
    "                    \n",
    "                    distance = max(median_1 - median_2)\n",
    "                    distances.append(distance)\n",
    "                    report_progress(i, iterations)\n",
    "                    \n",
    "                distances = np.array(distances)\n",
    "                mean, sigma = np.mean(distances), np.std(distances)\n",
    "                conf_int = stats.norm.interval(0.95, loc=mean, scale=sigma) # TODO / np.sqrt(len(distances)))\n",
    "                \n",
    "                # Check if 0 is in between\n",
    "                if 0 >= conf_int[0] and 0 <= conf_int[1]:\n",
    "                    t_value = (mean - 0) / (sigma) # TODO / np.sqrt(len(distances))) # t-statistic for mean\n",
    "                    pval = stats.t.sf(np.abs(t_value), len(distances) - 1) * 2  # two-sided pvalue = Prob(abs(t)>tt)\n",
    "                    result[(j, k)] = pval\n",
    "                else:\n",
    "                    result[(j, k)] = -1 # p < 0.05 two sided\n",
    "                \n",
    "                print(f\"Result: [{result[(j, k)]}]\")\n",
    "                    \n",
    "        results[(start_age, end_age)] = result\n",
    "        \n",
    "    with open(f\"./{data_type}_results.pkl\", \"wb\") as file:\n",
    "        pickle.dump(results, file)\n",
    "    return results"
   ]
  },
  {
   "cell_type": "code",
   "execution_count": null,
   "metadata": {
    "collapsed": true,
    "scrolled": true
   },
   "outputs": [],
   "source": []
  },
  {
   "cell_type": "code",
   "execution_count": 17,
   "metadata": {
    "collapsed": false
   },
   "outputs": [
    {
     "name": "stdout",
     "output_type": "stream",
     "text": [
      "\n",
      "=============================================\n",
      "Age 0 ~ 19\n",
      "=============================================\n",
      "\n",
      "---------------------------------------------\n",
      "Sets normal_bp & elevated\n",
      "---------------------------------------------\n",
      "Result: [-1]\n",
      "\n",
      "---------------------------------------------\n",
      "Sets normal_bp & stage_1\n",
      "---------------------------------------------\n",
      "Result: [-1]\n",
      "\n",
      "---------------------------------------------\n",
      "Sets normal_bp & stage_2\n",
      "---------------------------------------------\n",
      "Result: [-1]\n",
      "\n",
      "---------------------------------------------\n",
      "Sets normal_bp & stage_3\n",
      "---------------------------------------------\n",
      "Result: [-1]\n",
      "\n",
      "---------------------------------------------\n",
      "Sets elevated & stage_1\n",
      "---------------------------------------------\n",
      "Result: [-1]\n",
      "\n",
      "---------------------------------------------\n",
      "Sets elevated & stage_2\n",
      "---------------------------------------------\n",
      "Result: [0.32270312014547753]\n",
      "\n",
      "---------------------------------------------\n",
      "Sets elevated & stage_3\n",
      "---------------------------------------------\n",
      "Result: [-1]\n",
      "\n",
      "---------------------------------------------\n",
      "Sets stage_1 & stage_2\n",
      "---------------------------------------------\n",
      "Result: [0.08835562378802853]\n",
      "\n",
      "---------------------------------------------\n",
      "Sets stage_1 & stage_3\n",
      "---------------------------------------------\n",
      "Result: [-1]\n",
      "\n",
      "---------------------------------------------\n",
      "Sets stage_2 & stage_3\n",
      "---------------------------------------------\n",
      "Result: [-1]\n",
      "\n",
      "=============================================\n",
      "Age 19 ~ 31\n",
      "=============================================\n",
      "\n",
      "---------------------------------------------\n",
      "Sets normal_bp & elevated\n",
      "---------------------------------------------\n",
      "Result: [-1]\n",
      "\n",
      "---------------------------------------------\n",
      "Sets normal_bp & stage_1\n",
      "---------------------------------------------\n",
      "Result: [-1]\n",
      "\n",
      "---------------------------------------------\n",
      "Sets normal_bp & stage_2\n",
      "---------------------------------------------\n",
      "Result: [0.14389951876024254]\n",
      "\n",
      "---------------------------------------------\n",
      "Sets normal_bp & stage_3\n",
      "---------------------------------------------\n",
      "Result: [-1]\n",
      "\n",
      "---------------------------------------------\n",
      "Sets elevated & stage_1\n",
      "---------------------------------------------\n",
      "Result: [-1]\n",
      "\n",
      "---------------------------------------------\n",
      "Sets elevated & stage_2\n",
      "---------------------------------------------\n",
      "Result: [-1]\n",
      "\n",
      "---------------------------------------------\n",
      "Sets elevated & stage_3\n",
      "---------------------------------------------\n",
      "Result: [-1]\n",
      "\n",
      "---------------------------------------------\n",
      "Sets stage_1 & stage_2\n",
      "---------------------------------------------\n",
      "Result: [0.1522948172995582]\n",
      "\n",
      "---------------------------------------------\n",
      "Sets stage_1 & stage_3\n",
      "---------------------------------------------\n",
      "Result: [-1]\n",
      "\n",
      "---------------------------------------------\n",
      "Sets stage_2 & stage_3\n",
      "---------------------------------------------\n",
      "Result: [-1]\n",
      "\n",
      "=============================================\n",
      "Age 31 ~ 51\n",
      "=============================================\n",
      "\n",
      "---------------------------------------------\n",
      "Sets normal_bp & elevated\n",
      "---------------------------------------------\n",
      "Result: [-1]\n",
      "\n",
      "---------------------------------------------\n",
      "Sets normal_bp & stage_1\n",
      "---------------------------------------------\n",
      "Result: [-1]\n",
      "\n",
      "---------------------------------------------\n",
      "Sets normal_bp & stage_2\n",
      "---------------------------------------------\n",
      "Result: [-1]\n",
      "\n",
      "---------------------------------------------\n",
      "Sets normal_bp & stage_3\n",
      "---------------------------------------------\n",
      "Result: [-1]\n",
      "\n",
      "---------------------------------------------\n",
      "Sets elevated & stage_1\n",
      "---------------------------------------------\n",
      "Result: [-1]\n",
      "\n",
      "---------------------------------------------\n",
      "Sets elevated & stage_2\n",
      "---------------------------------------------\n",
      "Result: [-1]\n",
      "\n",
      "---------------------------------------------\n",
      "Sets elevated & stage_3\n",
      "---------------------------------------------\n",
      "Result: [-1]\n",
      "\n",
      "---------------------------------------------\n",
      "Sets stage_1 & stage_2\n",
      "---------------------------------------------\n",
      "Result: [-1]\n",
      "\n",
      "---------------------------------------------\n",
      "Sets stage_1 & stage_3\n",
      "---------------------------------------------\n",
      "Result: [-1]\n",
      "\n",
      "---------------------------------------------\n",
      "Sets stage_2 & stage_3\n",
      "---------------------------------------------\n",
      "Result: [-1]\n",
      "\n",
      "=============================================\n",
      "Age 51 ~ inf\n",
      "=============================================\n",
      "\n",
      "---------------------------------------------\n",
      "Sets normal_bp & elevated\n",
      "---------------------------------------------\n",
      "Result: [-1]\n",
      "\n",
      "---------------------------------------------\n",
      "Sets normal_bp & stage_1\n",
      "---------------------------------------------\n",
      "Result: [-1]\n",
      "\n",
      "---------------------------------------------\n",
      "Sets normal_bp & stage_2\n",
      "---------------------------------------------\n",
      "Result: [0.13508297601031188]\n",
      "\n",
      "---------------------------------------------\n",
      "Sets normal_bp & stage_3\n",
      "---------------------------------------------\n",
      "Result: [-1]\n",
      "\n",
      "---------------------------------------------\n",
      "Sets elevated & stage_1\n",
      "---------------------------------------------\n",
      "Result: [0.24530680942264455]\n",
      "\n",
      "---------------------------------------------\n",
      "Sets elevated & stage_2\n",
      "---------------------------------------------\n",
      "Result: [-1]\n",
      "\n",
      "---------------------------------------------\n",
      "Sets elevated & stage_3\n",
      "---------------------------------------------\n",
      "Result: [-1]\n",
      "\n",
      "---------------------------------------------\n",
      "Sets stage_1 & stage_2\n",
      "---------------------------------------------\n",
      "Result: [-1]\n",
      "\n",
      "---------------------------------------------\n",
      "Sets stage_1 & stage_3\n",
      "---------------------------------------------\n",
      "Result: [-1]\n",
      "\n",
      "---------------------------------------------\n",
      "Sets stage_2 & stage_3\n",
      "---------------------------------------------\n",
      "Result: [-1]\n"
     ]
    }
   ],
   "source": [
    "distances = operate()"
   ]
  },
  {
   "cell_type": "code",
   "execution_count": null,
   "metadata": {
    "collapsed": true
   },
   "outputs": [],
   "source": []
  },
  {
   "cell_type": "code",
   "execution_count": 16,
   "metadata": {
    "collapsed": true
   },
   "outputs": [],
   "source": []
  },
  {
   "cell_type": "code",
   "execution_count": 59,
   "metadata": {
    "collapsed": true
   },
   "outputs": [],
   "source": [
    "a = np.array([[1, np.nan, 12], [4.5, np.nan, 3], [2.1, 1, 6]])"
   ]
  },
  {
   "cell_type": "code",
   "execution_count": 9,
   "metadata": {
    "collapsed": false
   },
   "outputs": [
    {
     "name": "stdout",
     "output_type": "stream",
     "text": [
      "0    2.1\n",
      "1    0.0\n",
      "2    6.0\n",
      "dtype: float64\n"
     ]
    }
   ],
   "source": [
    "data = [[1, np.nan, 12], [4.5, np.nan, 3], [2.1, np.nan, 6]]\n",
    "a = pd.DataFrame(data)\n",
    "b = pd.DataFrame.median(a, axis=0)\n",
    "b[pd.isnull(b)] = 0\n",
    "print(b)"
   ]
  },
  {
   "cell_type": "code",
   "execution_count": 54,
   "metadata": {
    "collapsed": false
   },
   "outputs": [],
   "source": [
    "b[pd.isnull(b)] = 0"
   ]
  },
  {
   "cell_type": "code",
   "execution_count": 8,
   "metadata": {
    "collapsed": false
   },
   "outputs": [
    {
     "data": {
      "text/plain": [
       "<function pandas.core.dtypes.missing.isnull(obj)>"
      ]
     },
     "execution_count": 8,
     "metadata": {},
     "output_type": "execute_result"
    }
   ],
   "source": [
    "pd.isnull"
   ]
  },
  {
   "cell_type": "code",
   "execution_count": null,
   "metadata": {
    "collapsed": true
   },
   "outputs": [],
   "source": []
  },
  {
   "cell_type": "code",
   "execution_count": null,
   "metadata": {
    "collapsed": true
   },
   "outputs": [],
   "source": []
  },
  {
   "cell_type": "code",
   "execution_count": null,
   "metadata": {
    "collapsed": true
   },
   "outputs": [],
   "source": []
  },
  {
   "cell_type": "code",
   "execution_count": null,
   "metadata": {
    "collapsed": true
   },
   "outputs": [],
   "source": []
  }
 ],
 "metadata": {
  "kernelspec": {
   "display_name": "Python 3",
   "language": "python",
   "name": "python3"
  },
  "language_info": {
   "codemirror_mode": {
    "name": "ipython",
    "version": 3
   },
   "file_extension": ".py",
   "mimetype": "text/x-python",
   "name": "python",
   "nbconvert_exporter": "python",
   "pygments_lexer": "ipython3",
   "version": "3.6.8"
  }
 },
 "nbformat": 4,
 "nbformat_minor": 1
}
